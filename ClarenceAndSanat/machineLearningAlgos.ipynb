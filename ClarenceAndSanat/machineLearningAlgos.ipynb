{
 "cells": [
  {
   "cell_type": "markdown",
   "source": [
    "# AI/Machine Learning Cookbook :D"
   ],
   "metadata": {}
  },
  {
   "cell_type": "markdown",
   "source": [
    "hi sanat :)))))"
   ],
   "metadata": {}
  },
  {
   "cell_type": "markdown",
   "source": [
    "### Time Series\r\n",
    "#### Markov Decision Making Process\r\n",
    "\r\n",
    "https://openlearninglibrary.mit.edu/assets/courseware/v1/caee9a9ff60ed183e4485869c2e88ac4/asset-v1:MITx+6.036+1T2019+type@asset+block/notes_chapter_Sequential_models.pdf\r\n",
    "\r\n",
    " - State machine \r\n",
    " a state\r\n",
    "\r\n",
    " \r\n",
    "Formally, we define a state machine as (S, X, Y, s0, f, g) where\r\n",
    "There are a huge num\u0002ber of major and minor\r\n",
    "variations on the idea of\r\n",
    "a state machine. We’ll\r\n",
    "just work with one spe\u0002cific one in this section\r\n",
    "and another one in the\r\n",
    "next, but don’t worry if\r\n",
    "you see other variations\r\n",
    "out in the world!\r\n",
    "\r\n",
    "• S is a finite or infinite set of possible states; \\\r\n",
    "• X is a finite or infinite set of possible inputs; \\\r\n",
    "• Y is a finite or infinite set of possible outputs; \\\r\n",
    "• s0 ∈ S is the initial state of the machine; \\\r\n",
    "• f : S × X → S is a transition function, which takes an input and a previous state and\r\n",
    "produces a next state; \\\r\n",
    "• g : S → Y is an output function, which takes a state and produces an output. \\\r\n",
    "The basic operation of the state machine is to start with state s0, then iteratively compute for t > 1: \\\r\n",
    "st = f(st−1, xt) \\\r\n",
    "yt = g(st) \r\n"
   ],
   "metadata": {}
  },
  {
   "cell_type": "markdown",
   "source": [],
   "metadata": {}
  }
 ],
 "metadata": {
  "orig_nbformat": 4,
  "language_info": {
   "name": "python"
  }
 },
 "nbformat": 4,
 "nbformat_minor": 2
}